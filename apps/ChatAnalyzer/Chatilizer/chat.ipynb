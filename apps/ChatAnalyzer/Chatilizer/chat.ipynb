{
 "cells": [
  {
   "cell_type": "code",
   "execution_count": 154,
   "metadata": {},
   "outputs": [],
   "source": [
    "import re\n",
    "def startsWithDateTime(s,date_pattern):\n",
    "    \n",
    "    result = re.match(date_pattern, s)\n",
    "    #print (result,s)\n",
    "    if result:\n",
    "        \n",
    "        return True\n",
    "\n",
    "    return False\n",
    "    \n"
   ]
  },
  {
   "cell_type": "code",
   "execution_count": 159,
   "metadata": {},
   "outputs": [],
   "source": [
    "import emoji\n",
    "def startsWithAuthor(s):\n",
    "    patterns = [\n",
    "        '([\\w]+):',                        # First Name\n",
    "        '([\\w]+[\\s]+[\\w]+):',              # First Name + Last Name\n",
    "        '([\\w]+[\\s]+[\\w]+[\\s]+[\\w]+):',    # First Name + Middle Name + Last Name\n",
    "        '([+]\\d{2} \\d{5} \\d{5}):',         # Mobile Number (India)\n",
    "        '([+]\\d{2} \\d{3} \\d{3} \\d{4}):',   # Mobile Number (US)\n",
    "        '([+]\\d{2} \\d{4} \\d{7})'           # Mobile Number (Europe)\n",
    "    ]\n",
    "    pattern = '^' + '|'.join(patterns)\n",
    "    \n",
    "    result = re.match(pattern, s)\n",
    "    \n",
    "    #if s.count(\"changed\")>0:\n",
    "        #print (result,s)\n",
    "    if result:\n",
    "        return True\n",
    "    else:\n",
    "        if s.count(':')==1 and s.count(\"changed the subject\")==0 :\n",
    "            #print (result,s)\n",
    "            return True\n",
    "        \n",
    "    return False"
   ]
  },
  {
   "cell_type": "code",
   "execution_count": 160,
   "metadata": {},
   "outputs": [],
   "source": [
    "def getDataPoint(line):\n",
    "    # line = 18/06/17, 22:47 - Loki: Why do you have 2 numbers, Banner?\n",
    "    \n",
    "    splitLine = line.split(' - ') # splitLine = ['18/06/17, 22:47', 'Loki: Why do you have 2 numbers, Banner?']\n",
    "    #print (splitLine)\n",
    "    dateTime = splitLine[0] # dateTime = '18/06/17, 22:47'\n",
    "    #print (dateTime)\n",
    "    date, time = dateTime.split(', ') # date = '18/06/17'; time = '22:47'\n",
    "    #print (date,time)\n",
    "    message = ' '.join(splitLine[1:]) # message = 'Loki: Why do you have 2 numbers, Banner?'\n",
    "    #print (message)\n",
    "    if startsWithAuthor(message): # True\n",
    "        splitMessage = message.split(': ') # splitMessage = ['Loki', 'Why do you have 2 numbers, Banner?']\n",
    "        author = splitMessage[0] # author = 'Loki'\n",
    "        #print (author)\n",
    "        message = ' '.join(splitMessage[1:]) # message = 'Why do you have 2 numbers, Banner?'\n",
    "        #print (message)\n",
    "    else:\n",
    "        author = None\n",
    "    #print (date,time,author,message)\n",
    "    return date, time, author, message"
   ]
  },
  {
   "cell_type": "code",
   "execution_count": 161,
   "metadata": {},
   "outputs": [],
   "source": [
    "data_frame_data = {'dd_pattern': ['^([0-2][0-9]|(3)[0-1])(\\/)(((0)[0-9])|((1)[0-2]))(\\/)(\\d{2}|\\d{4}), (([0-9]|)[0-9]):([0-9][0-9])(\\s*)(([a|p]m)*|([A|P]M)*)*(\\s*)-',[]],\n",
    "                                     'mm_pattern': ['^(((0)[0-9]|[0-9])|((1)[0-2]))(\\/)(([0-2][0-9]|(3)[0-1])|[1-9])(\\/)(\\d{2}|\\d{4}), (([0-9]|)[0-9]):([0-9][0-9])(\\s*)(([a|p]m)*|([A|P]M)*)*(\\s*)-',[]]}\n",
    "\n",
    "\n",
    "#conversationPath = \"D:\\Localgit\\PythonWork\\ChatAnalyzer\\WhatsApp Chat with av.txt\"\n",
    "conversationPath = \"D:\\Localgit\\PythonWork\\ChatAnalyzer\\WhatsApp Chat with SORRU THA MUKIYAM.txt\"\n",
    "\n",
    "\n",
    "\n",
    "for date_pattern in  data_frame_data.values():\n",
    "    with open(conversationPath, encoding=\"utf-8\") as fp:\n",
    "        fp.readline() # Skipping first line of the file (usually contains information about end-to-end encryption)\n",
    "\n",
    "        messageBuffer = [] # Buffer to capture intermediate output for multi-line messages\n",
    "        date, time, author = None, None, None # Intermediate variables to keep track of the current message being processed\n",
    "\n",
    "\n",
    "\n",
    "\n",
    "        while True:\n",
    "            line = fp.readline()\n",
    "            #print (line)\n",
    "            if not line: # Stop reading further if end of file has been reached\n",
    "                date_pattern[1].append([date, time, author, ' '.join(messageBuffer)])\n",
    "                break\n",
    "            #print (line)\n",
    "            line = line.strip()# Guarding against erroneous leading and trailing whitespaces\n",
    "\n",
    "            if startsWithDateTime(line,date_pattern[0]): # If a line starts with a Date Time pattern, then this indicates the beginning of a new message\n",
    "                if len(messageBuffer) > 0: # Check if the message buffer contains characters from previous iterations\n",
    "                    #print (messageBuffer)\n",
    "                    date_pattern[1].append([date, time, author, ' '.join(messageBuffer)]) # Save the tokens from the previous message in parsedData\n",
    "                messageBuffer.clear() # Clear the message buffer so that it can be used for the next message\n",
    "                date, time, author, message = getDataPoint(line) # Identify and extract tokens from the line\n",
    "                #print (date, time, author, message)\n",
    "                messageBuffer.append(message) # Append message to buffer\n",
    "\n",
    "            else:\n",
    "                messageBuffer.append(line) # If a line doesn't start with a Date Time pattern, then it is part of a multi-line message. So, just append to buffer\n",
    "\n",
    "                \n",
    "if len(data_frame_data['dd_pattern'][1]) > len(data_frame_data['mm_pattern'][1]):\n",
    "    parsedData = data_frame_data['dd_pattern'][1]\n",
    "else:\n",
    "    parsedData = data_frame_data['mm_pattern'][1]\n",
    "    "
   ]
  },
  {
   "cell_type": "code",
   "execution_count": 162,
   "metadata": {},
   "outputs": [
    {
     "data": {
      "text/html": [
       "<div>\n",
       "<style scoped>\n",
       "    .dataframe tbody tr th:only-of-type {\n",
       "        vertical-align: middle;\n",
       "    }\n",
       "\n",
       "    .dataframe tbody tr th {\n",
       "        vertical-align: top;\n",
       "    }\n",
       "\n",
       "    .dataframe thead th {\n",
       "        text-align: right;\n",
       "    }\n",
       "</style>\n",
       "<table border=\"1\" class=\"dataframe\">\n",
       "  <thead>\n",
       "    <tr style=\"text-align: right;\">\n",
       "      <th></th>\n",
       "      <th>Date</th>\n",
       "      <th>Time</th>\n",
       "      <th>Author</th>\n",
       "      <th>Message</th>\n",
       "    </tr>\n",
       "  </thead>\n",
       "  <tbody>\n",
       "    <tr>\n",
       "      <th>0</th>\n",
       "      <td>27/04/20</td>\n",
       "      <td>2:38 pm</td>\n",
       "      <td>WIPRO.VIMALSREE.</td>\n",
       "      <td>&lt;Media omitted&gt;</td>\n",
       "    </tr>\n",
       "    <tr>\n",
       "      <th>1</th>\n",
       "      <td>27/04/20</td>\n",
       "      <td>2:38 pm</td>\n",
       "      <td>WIPRO.VIMALSREE.</td>\n",
       "      <td>&lt;Media omitted&gt;</td>\n",
       "    </tr>\n",
       "    <tr>\n",
       "      <th>2</th>\n",
       "      <td>27/04/20</td>\n",
       "      <td>2:41 pm</td>\n",
       "      <td>R@$€ T€RR@R</td>\n",
       "      <td>wowwwww</td>\n",
       "    </tr>\n",
       "    <tr>\n",
       "      <th>3</th>\n",
       "      <td>27/04/20</td>\n",
       "      <td>2:43 pm</td>\n",
       "      <td>WIPRO.RAHINI.SCCM.</td>\n",
       "      <td>nice</td>\n",
       "    </tr>\n",
       "    <tr>\n",
       "      <th>4</th>\n",
       "      <td>27/04/20</td>\n",
       "      <td>2:43 pm</td>\n",
       "      <td>WIPRO.MANICKAM.</td>\n",
       "      <td>Soruna udane vanthuru</td>\n",
       "    </tr>\n",
       "  </tbody>\n",
       "</table>\n",
       "</div>"
      ],
      "text/plain": [
       "       Date     Time              Author                Message\n",
       "0  27/04/20  2:38 pm    WIPRO.VIMALSREE.        <Media omitted>\n",
       "1  27/04/20  2:38 pm    WIPRO.VIMALSREE.        <Media omitted>\n",
       "2  27/04/20  2:41 pm         R@$€ T€RR@R                wowwwww\n",
       "3  27/04/20  2:43 pm  WIPRO.RAHINI.SCCM.                   nice\n",
       "4  27/04/20  2:43 pm     WIPRO.MANICKAM.  Soruna udane vanthuru"
      ]
     },
     "execution_count": 162,
     "metadata": {},
     "output_type": "execute_result"
    }
   ],
   "source": [
    "import pandas as pd\n",
    "\n",
    "df = pd.DataFrame(parsedData, columns=['Date', 'Time', 'Author', 'Message'])\n",
    "df.head()\n"
   ]
  },
  {
   "cell_type": "code",
   "execution_count": 163,
   "metadata": {},
   "outputs": [],
   "source": [
    "dd_pattern = '^([0-2][0-9]|(3)[0-1])(\\/)(((0)[0-9])|((1)[0-2]))(\\/)(\\d{2}|\\d{4}), (([0-9]|)[0-9]):([0-9][0-9])(\\s*)(([a|p]m)*|([A|P]M)*)*(\\s*)-'\n",
    "mm_pattern = '^(((0)[0-9]|[0-9])|((1)[0-2]))(\\/)(([0-2][0-9]|(3)[0-1])|[1-9])(\\/)(\\d{2}|\\d{4}), (([0-9]|)[0-9]):([0-9][0-9])(\\s*)(([a|p]m)*|([A|P]M)*)*(\\s*)-'\n",
    "#for n in range(33):\n",
    "    #s=\"11/\"+str(n)+\"/18, 9:23 PM - +91 98941 98907: Po ma anguttu!\"\n",
    "    #s=\"25/10/2019, 07:55 - You were added\"\n",
    "    #s=\"05/10/17, 6:26 PM - Alexander VZ: Alex.playboy.ander@gmail.com\"\n",
    "    #print (re.match(mm_pattern, s))\n",
    "\n",
    "\n",
    "#s=\"25/10/2019, 07:53 -ad sdfsdf\"\n",
    "\n",
    "#print (re.match('^([0-2][0-9]|(3)[0-1])(\\/)(((0)[0-9])|((1)[0-2]))(\\/)2019,(\\s*)07:53(s*)(([a|p]m)*|([A|P]M)*)*(\\s*)-ad', s))\n"
   ]
  },
  {
   "cell_type": "code",
   "execution_count": 165,
   "metadata": {},
   "outputs": [
    {
     "name": "stdout",
     "output_type": "stream",
     "text": [
      "2020-04-30 23:15:00\n",
      "2020-01-05 10:05:00\n"
     ]
    }
   ],
   "source": [
    "max_date = pd.to_datetime(df['Date'] + ' ' + df['Time']).max()\n",
    "min_date = pd.to_datetime(df['Date'] + ' ' + df['Time'], errors='ignore').min()\n",
    "\n",
    "print (max_date)\n",
    "print (min_date)"
   ]
  },
  {
   "cell_type": "code",
   "execution_count": 166,
   "metadata": {},
   "outputs": [
    {
     "name": "stdout",
     "output_type": "stream",
     "text": [
      "%d/%m/%Y\n",
      "Date Format failed   %d/%m/%Y\n",
      "%m/%d/%Y\n",
      "Date Format failed   %m/%d/%Y\n",
      "%d/%m/%y\n",
      "Date Format is  %d/%m/%y\n",
      "%m/%d/%y\n",
      "Date Format failed   %m/%d/%y\n",
      "[('2020 April', 416), ('2020 May', 37)]\n",
      "2020-05-01\n",
      "2020-04-27\n",
      "4\n"
     ]
    },
    {
     "data": {
      "text/plain": [
       "'2020-04-27 2:38 pm'"
      ]
     },
     "execution_count": 166,
     "metadata": {},
     "output_type": "execute_result"
    }
   ],
   "source": [
    "#Row 5\n",
    "date_group=df.groupby(['Date'])\n",
    "\n",
    "long_day_list = df.loc[df['Date']==date_group.Message.count().idxmax(),['Author','Message']]\n",
    "\n",
    "long_day_list = [(author.Author,author.Message) for author in long_day_list.itertuples()]\n",
    "\n",
    "#time_group=)\n",
    "time_group = pd.to_datetime(df['Time']).apply(lambda s: str(s.hour))\n",
    "\n",
    "time_group = [n for n in time_group.value_counts()[:10].items()]\n",
    "\n",
    "format_type = [\"%d/%m/%Y\",\"%m/%d/%Y\",\"%d/%m/%y\",\"%m/%d/%y\"]\n",
    "\n",
    "for ft in format_type:\n",
    "    try:\n",
    "        print (ft)\n",
    "        dt_group = pd.to_datetime(df['Date'],format=ft,errors='raise')\n",
    "    except:\n",
    "        print (\"Date Format failed  \", ft)\n",
    "    else:\n",
    "        print (\"Date Format is \", ft)\n",
    "\n",
    "#year_group = pd.to_datetime(df['Date']).apply(lambda s: str(s.year)+' ' +str(s.month_name()))\n",
    "year_group = dt_group.apply(lambda s: str(s.year)+' ' +str(s.month_name()))\n",
    "\n",
    "year_group = [n for n in year_group.value_counts()[:10].items()]\n",
    "print (year_group)\n",
    "#cal_group = pd.to_datetime(df['Date'],format=(\"%d/%m/%Y\"),errors='ignore')\n",
    "\n",
    "cal_group = [n for n in dt_group.value_counts()[:50].items()]\n",
    "cal_group\n",
    "\n",
    "#print (df.loc[df['Date']==\"11/04/2020\"])\n",
    "#cal_group[-16][0].strftime('%Y%m%d')\n",
    "\n",
    "max_date = dt_group.max().date()\n",
    "print (max_date)\n",
    "min_date = dt_group.min().date()\n",
    "print (min_date)\n",
    "\n",
    "date_diff = max_date - min_date\n",
    "print (date_diff.days)\n",
    "max_date = str(max_date)+' '+df['Time'][df['Time'].last_valid_index()]\n",
    "max_date\n",
    "min_date = str(min_date)+' '+df['Time'][0]\n",
    "min_date"
   ]
  },
  {
   "cell_type": "code",
   "execution_count": 167,
   "metadata": {},
   "outputs": [
    {
     "name": "stdout",
     "output_type": "stream",
     "text": [
      "WIPRO.RAHINI.SCCM.    129\n",
      "WIPRO.MANICKAM.        95\n",
      "R@$€ T€RR@R            95\n",
      "WIPRO.RAJESHKUMAR.     83\n",
      "WIPRO.VIMALSREE.       36\n",
      "WIPRO.SANGETHA.         9\n",
      "Name: Author, dtype: int64\n"
     ]
    },
    {
     "data": {
      "text/plain": [
       "<matplotlib.axes._subplots.AxesSubplot at 0x11c364d0>"
      ]
     },
     "execution_count": 167,
     "metadata": {},
     "output_type": "execute_result"
    },
    {
     "data": {
      "image/png": "[encoded data removed]",
      "text/plain": [
       "<Figure size 640x480 with 1 Axes>"
      ]
     },
     "metadata": {},
     "output_type": "display_data"
    }
   ],
   "source": [
    "author_value_counts = df['Author'].value_counts() # Number of messages per author\n",
    "top_10_author_value_counts = author_value_counts # Number of messages per author for the top 10 most active authors\n",
    "top_10_author_value_counts.plot.barh() # Plot \n",
    "print (author_value_counts)\n",
    "author_value_counts.plot.barh(title=\"Messages\")"
   ]
  },
  {
   "cell_type": "code",
   "execution_count": 168,
   "metadata": {},
   "outputs": [
    {
     "data": {
      "text/html": [
       "<div>\n",
       "<style scoped>\n",
       "    .dataframe tbody tr th:only-of-type {\n",
       "        vertical-align: middle;\n",
       "    }\n",
       "\n",
       "    .dataframe tbody tr th {\n",
       "        vertical-align: top;\n",
       "    }\n",
       "\n",
       "    .dataframe thead th {\n",
       "        text-align: right;\n",
       "    }\n",
       "</style>\n",
       "<table border=\"1\" class=\"dataframe\">\n",
       "  <thead>\n",
       "    <tr style=\"text-align: right;\">\n",
       "      <th></th>\n",
       "      <th>Date</th>\n",
       "      <th>Time</th>\n",
       "      <th>Author</th>\n",
       "      <th>Message</th>\n",
       "    </tr>\n",
       "  </thead>\n",
       "  <tbody>\n",
       "    <tr>\n",
       "      <th>95</th>\n",
       "      <td>27/04/20</td>\n",
       "      <td>5:15 pm</td>\n",
       "      <td>None</td>\n",
       "      <td>WIPRO.RAHINI.SCCM.: Come and join me in Ludo W...</td>\n",
       "    </tr>\n",
       "    <tr>\n",
       "      <th>101</th>\n",
       "      <td>27/04/20</td>\n",
       "      <td>7:32 pm</td>\n",
       "      <td>None</td>\n",
       "      <td>WIPRO.RAHINI.SCCM.: Come and join me in Ludo W...</td>\n",
       "    </tr>\n",
       "    <tr>\n",
       "      <th>193</th>\n",
       "      <td>28/04/20</td>\n",
       "      <td>6:22 pm</td>\n",
       "      <td>None</td>\n",
       "      <td>WIPRO.RAJESHKUMAR.: https://ludosuperstar.cn/m...</td>\n",
       "    </tr>\n",
       "    <tr>\n",
       "      <th>198</th>\n",
       "      <td>28/04/20</td>\n",
       "      <td>7:07 pm</td>\n",
       "      <td>None</td>\n",
       "      <td>WIPRO.RAHINI.SCCM.: Come and join me in Ludo W...</td>\n",
       "    </tr>\n",
       "    <tr>\n",
       "      <th>203</th>\n",
       "      <td>28/04/20</td>\n",
       "      <td>9:41 pm</td>\n",
       "      <td>None</td>\n",
       "      <td>WIPRO.VIMALSREE.: Come and join me in Ludo Wor...</td>\n",
       "    </tr>\n",
       "  </tbody>\n",
       "</table>\n",
       "</div>"
      ],
      "text/plain": [
       "         Date     Time Author  \\\n",
       "95   27/04/20  5:15 pm   None   \n",
       "101  27/04/20  7:32 pm   None   \n",
       "193  28/04/20  6:22 pm   None   \n",
       "198  28/04/20  7:07 pm   None   \n",
       "203  28/04/20  9:41 pm   None   \n",
       "\n",
       "                                               Message  \n",
       "95   WIPRO.RAHINI.SCCM.: Come and join me in Ludo W...  \n",
       "101  WIPRO.RAHINI.SCCM.: Come and join me in Ludo W...  \n",
       "193  WIPRO.RAJESHKUMAR.: https://ludosuperstar.cn/m...  \n",
       "198  WIPRO.RAHINI.SCCM.: Come and join me in Ludo W...  \n",
       "203  WIPRO.VIMALSREE.: Come and join me in Ludo Wor...  "
      ]
     },
     "execution_count": 168,
     "metadata": {},
     "output_type": "execute_result"
    }
   ],
   "source": [
    "null_authors_df = df[df['Author'].isnull()]\n",
    "null_authors_df.head()\n"
   ]
  },
  {
   "cell_type": "code",
   "execution_count": 169,
   "metadata": {},
   "outputs": [
    {
     "name": "stdout",
     "output_type": "stream",
     "text": [
      "WIPRO.RAHINI.SCCM.    5\n",
      "WIPRO.VIMALSREE.      4\n",
      "WIPRO.RAJESHKUMAR.    4\n",
      "WIPRO.MANICKAM.       4\n",
      "WIPRO.SANGETHA.       1\n",
      "R@$€ T€RR@R           1\n",
      "Name: Author, dtype: int64\n"
     ]
    },
    {
     "data": {
      "text/plain": [
       "<matplotlib.axes._subplots.AxesSubplot at 0x535ef10>"
      ]
     },
     "execution_count": 169,
     "metadata": {},
     "output_type": "execute_result"
    },
    {
     "data": {
      "image/png": "[encoded data removed]",
      "text/plain": [
       "<Figure size 640x480 with 1 Axes>"
      ]
     },
     "metadata": {},
     "output_type": "display_data"
    }
   ],
   "source": [
    "media_messages_df = df[df['Message'] == '<Media omitted>']\n",
    "#print(media_messages_df.head())\n",
    "\n",
    "author_media_messages_value_counts = media_messages_df['Author'].value_counts()\n",
    "print (author_media_messages_value_counts)\n",
    "#top_10_author_media_messages_value_counts = author_media_messages_value_counts.head(10)\n",
    "#top_10_author_media_messages_value_counts.plot.barh()\n",
    "author_media_messages_value_counts.plot.bar(title=\"Media\")\n"
   ]
  },
  {
   "cell_type": "code",
   "execution_count": 193,
   "metadata": {},
   "outputs": [],
   "source": [
    "import emoji,string\n",
    "df['Letter_Count'] = df['Message'].apply(lambda s : len(s))\n",
    "#df['Emoji_Count'] = df['Message'].apply(lambda s : sum([len(n) for n in s if emoji.demojize(n)!=n]))\n",
    "df['Emoji_Count'] = df['Message'].apply(lambda s : emoji.emoji_count(s))\n",
    "df['Emojis'] = df['Message'].apply(lambda s : [n for n in s if emoji.demojize(n)!=n \n",
    "                                               and emoji.demojize(n).count('skin_tone')==0 and emoji.demojize(n).count('male_sign')==0] )\n",
    "\n",
    "df['Word_Count'] = df['Message'].apply(lambda s : len([w for w in s.split(' ') if w not in string.punctuation]))\n",
    "\n",
    "\n",
    "\n",
    "\n"
   ]
  },
  {
   "cell_type": "code",
   "execution_count": 195,
   "metadata": {},
   "outputs": [
    {
     "name": "stdout",
     "output_type": "stream",
     "text": [
      "6\n",
      "11346 1757 201 453 447\n",
      "[('total messages', 447), ('total media', 19), ('total emojis', 201), ('total words', 1757), ('total letters', 11346), ('total days', 116)]\n"
     ]
    },
    {
     "data": {
      "text/plain": [
       "numpy.timedelta64(10069800000000000,'ns')"
      ]
     },
     "execution_count": 195,
     "metadata": {},
     "output_type": "execute_result"
    }
   ],
   "source": [
    "total_members = list(df[df['Author'].notnull()].Author.unique())\n",
    "\n",
    "print (df.Author.nunique(dropna=True))\n",
    "\n",
    "\n",
    "print (df['Letter_Count'].sum(), df['Word_Count'].sum(),df['Emoji_Count'].sum(),df.Message.count(),df.Author.count())\n",
    "\"\"\"df.head()\n",
    "\n",
    "df[(df['Author'].notnull()) | (df['Changed_Author'].notnull())].Word_Count.sum()\n",
    "\n",
    "author_media_messages_value_counts.sum()\"\"\"\n",
    "max_date = pd.to_datetime(df['Date']+ ' ' +df['Time'],errors='ignore').max()\n",
    "min_date = pd.to_datetime(df['Date']+ ' ' +df['Time'],errors='ignore').min()\n",
    "\n",
    "date_diff = max_date-min_date\n",
    "\n",
    "\n",
    "total = [('total messages', int(df.count().Author)),\n",
    "             ('total media', int(author_media_messages_value_counts.sum())),\n",
    "            ('total emojis', int(df['Emoji_Count'].sum())),\n",
    "        ('total words',int(df['Word_Count'].sum())),\n",
    "        ('total letters',int(df['Letter_Count'].sum())),\n",
    "        ('total days',date_diff.days)]\n",
    "\n",
    "print (total)\n",
    "date_diff.to_timedelta64()"
   ]
  },
  {
   "cell_type": "code",
   "execution_count": 196,
   "metadata": {},
   "outputs": [
    {
     "name": "stdout",
     "output_type": "stream",
     "text": [
      "j\n"
     ]
    }
   ],
   "source": [
    "dic={'a':[1,2,3],'b':[]}\n",
    "if not dic.get('b'):\n",
    "     print ('j')"
   ]
  },
  {
   "cell_type": "code",
   "execution_count": 197,
   "metadata": {},
   "outputs": [
    {
     "data": {
      "text/plain": [
       "<pandas.core.groupby.generic.DataFrameGroupBy object at 0x12286250>"
      ]
     },
     "execution_count": 197,
     "metadata": {},
     "output_type": "execute_result"
    }
   ],
   "source": [
    "df.groupby(['Author','Emojis'])"
   ]
  },
  {
   "cell_type": "code",
   "execution_count": 198,
   "metadata": {},
   "outputs": [
    {
     "data": {
      "text/html": [
       "<div>\n",
       "<style scoped>\n",
       "    .dataframe tbody tr th:only-of-type {\n",
       "        vertical-align: middle;\n",
       "    }\n",
       "\n",
       "    .dataframe tbody tr th {\n",
       "        vertical-align: top;\n",
       "    }\n",
       "\n",
       "    .dataframe thead th {\n",
       "        text-align: right;\n",
       "    }\n",
       "</style>\n",
       "<table border=\"1\" class=\"dataframe\">\n",
       "  <thead>\n",
       "    <tr style=\"text-align: right;\">\n",
       "      <th></th>\n",
       "      <th>Letter_Count</th>\n",
       "      <th>Word_Count</th>\n",
       "      <th>Emoji_Count</th>\n",
       "    </tr>\n",
       "  </thead>\n",
       "  <tbody>\n",
       "    <tr>\n",
       "      <th>count</th>\n",
       "      <td>453.000000</td>\n",
       "      <td>453.000000</td>\n",
       "      <td>453.000000</td>\n",
       "    </tr>\n",
       "    <tr>\n",
       "      <th>mean</th>\n",
       "      <td>25.046358</td>\n",
       "      <td>3.878587</td>\n",
       "      <td>0.443709</td>\n",
       "    </tr>\n",
       "    <tr>\n",
       "      <th>std</th>\n",
       "      <td>30.022854</td>\n",
       "      <td>3.648349</td>\n",
       "      <td>1.114878</td>\n",
       "    </tr>\n",
       "    <tr>\n",
       "      <th>min</th>\n",
       "      <td>1.000000</td>\n",
       "      <td>1.000000</td>\n",
       "      <td>0.000000</td>\n",
       "    </tr>\n",
       "    <tr>\n",
       "      <th>25%</th>\n",
       "      <td>9.000000</td>\n",
       "      <td>1.000000</td>\n",
       "      <td>0.000000</td>\n",
       "    </tr>\n",
       "    <tr>\n",
       "      <th>50%</th>\n",
       "      <td>17.000000</td>\n",
       "      <td>3.000000</td>\n",
       "      <td>0.000000</td>\n",
       "    </tr>\n",
       "    <tr>\n",
       "      <th>75%</th>\n",
       "      <td>30.000000</td>\n",
       "      <td>5.000000</td>\n",
       "      <td>0.000000</td>\n",
       "    </tr>\n",
       "    <tr>\n",
       "      <th>max</th>\n",
       "      <td>231.000000</td>\n",
       "      <td>24.000000</td>\n",
       "      <td>7.000000</td>\n",
       "    </tr>\n",
       "  </tbody>\n",
       "</table>\n",
       "</div>"
      ],
      "text/plain": [
       "       Letter_Count  Word_Count  Emoji_Count\n",
       "count    453.000000  453.000000   453.000000\n",
       "mean      25.046358    3.878587     0.443709\n",
       "std       30.022854    3.648349     1.114878\n",
       "min        1.000000    1.000000     0.000000\n",
       "25%        9.000000    1.000000     0.000000\n",
       "50%       17.000000    3.000000     0.000000\n",
       "75%       30.000000    5.000000     0.000000\n",
       "max      231.000000   24.000000     7.000000"
      ]
     },
     "execution_count": 198,
     "metadata": {},
     "output_type": "execute_result"
    }
   ],
   "source": [
    "continuous_columns = ['Letter_Count', 'Word_Count','Emoji_Count']\n",
    "df[continuous_columns].describe()"
   ]
  },
  {
   "cell_type": "code",
   "execution_count": 243,
   "metadata": {},
   "outputs": [
    {
     "ename": "ValueError",
     "evalue": "Lengths must match to compare",
     "output_type": "error",
     "traceback": [
      "\u001b[1;31m---------------------------------------------------------------------------\u001b[0m",
      "\u001b[1;31mValueError\u001b[0m                                Traceback (most recent call last)",
      "\u001b[1;32m<ipython-input-243-8372784d079c>\u001b[0m in \u001b[0;36m<module>\u001b[1;34m()\u001b[0m\n\u001b[0;32m      5\u001b[0m \u001b[1;31m#df.loc[(df['Emojis']==[])]\u001b[0m\u001b[1;33m\u001b[0m\u001b[1;33m\u001b[0m\u001b[0m\n\u001b[0;32m      6\u001b[0m \u001b[1;33m\u001b[0m\u001b[0m\n\u001b[1;32m----> 7\u001b[1;33m \u001b[0mdf\u001b[0m\u001b[1;33m.\u001b[0m\u001b[0mloc\u001b[0m\u001b[1;33m[\u001b[0m\u001b[1;33m(\u001b[0m\u001b[0mdf\u001b[0m\u001b[1;33m[\u001b[0m\u001b[1;34m'Emojis'\u001b[0m\u001b[1;33m]\u001b[0m \u001b[1;33m==\u001b[0m \u001b[1;33m[\u001b[0m\u001b[1;34m'🤣'\u001b[0m\u001b[1;33m]\u001b[0m \u001b[1;33m)\u001b[0m\u001b[1;33m]\u001b[0m\u001b[1;33m\u001b[0m\u001b[0m\n\u001b[0m",
      "\u001b[1;32mc:\\users\\hi\\appdata\\local\\programs\\python\\python37-32\\lib\\site-packages\\pandas\\core\\ops\\common.py\u001b[0m in \u001b[0;36mnew_method\u001b[1;34m(self, other)\u001b[0m\n\u001b[0;32m     62\u001b[0m         \u001b[0mother\u001b[0m \u001b[1;33m=\u001b[0m \u001b[0mitem_from_zerodim\u001b[0m\u001b[1;33m(\u001b[0m\u001b[0mother\u001b[0m\u001b[1;33m)\u001b[0m\u001b[1;33m\u001b[0m\u001b[0m\n\u001b[0;32m     63\u001b[0m \u001b[1;33m\u001b[0m\u001b[0m\n\u001b[1;32m---> 64\u001b[1;33m         \u001b[1;32mreturn\u001b[0m \u001b[0mmethod\u001b[0m\u001b[1;33m(\u001b[0m\u001b[0mself\u001b[0m\u001b[1;33m,\u001b[0m \u001b[0mother\u001b[0m\u001b[1;33m)\u001b[0m\u001b[1;33m\u001b[0m\u001b[0m\n\u001b[0m\u001b[0;32m     65\u001b[0m \u001b[1;33m\u001b[0m\u001b[0m\n\u001b[0;32m     66\u001b[0m     \u001b[1;32mreturn\u001b[0m \u001b[0mnew_method\u001b[0m\u001b[1;33m\u001b[0m\u001b[0m\n",
      "\u001b[1;32mc:\\users\\hi\\appdata\\local\\programs\\python\\python37-32\\lib\\site-packages\\pandas\\core\\ops\\__init__.py\u001b[0m in \u001b[0;36mwrapper\u001b[1;34m(self, other)\u001b[0m\n\u001b[0;32m    527\u001b[0m         \u001b[0mrvalues\u001b[0m \u001b[1;33m=\u001b[0m \u001b[0mextract_array\u001b[0m\u001b[1;33m(\u001b[0m\u001b[0mother\u001b[0m\u001b[1;33m,\u001b[0m \u001b[0mextract_numpy\u001b[0m\u001b[1;33m=\u001b[0m\u001b[1;32mTrue\u001b[0m\u001b[1;33m)\u001b[0m\u001b[1;33m\u001b[0m\u001b[0m\n\u001b[0;32m    528\u001b[0m \u001b[1;33m\u001b[0m\u001b[0m\n\u001b[1;32m--> 529\u001b[1;33m         \u001b[0mres_values\u001b[0m \u001b[1;33m=\u001b[0m \u001b[0mcomparison_op\u001b[0m\u001b[1;33m(\u001b[0m\u001b[0mlvalues\u001b[0m\u001b[1;33m,\u001b[0m \u001b[0mrvalues\u001b[0m\u001b[1;33m,\u001b[0m \u001b[0mop\u001b[0m\u001b[1;33m)\u001b[0m\u001b[1;33m\u001b[0m\u001b[0m\n\u001b[0m\u001b[0;32m    530\u001b[0m \u001b[1;33m\u001b[0m\u001b[0m\n\u001b[0;32m    531\u001b[0m         \u001b[1;32mreturn\u001b[0m \u001b[0m_construct_result\u001b[0m\u001b[1;33m(\u001b[0m\u001b[0mself\u001b[0m\u001b[1;33m,\u001b[0m \u001b[0mres_values\u001b[0m\u001b[1;33m,\u001b[0m \u001b[0mindex\u001b[0m\u001b[1;33m=\u001b[0m\u001b[0mself\u001b[0m\u001b[1;33m.\u001b[0m\u001b[0mindex\u001b[0m\u001b[1;33m,\u001b[0m \u001b[0mname\u001b[0m\u001b[1;33m=\u001b[0m\u001b[0mres_name\u001b[0m\u001b[1;33m)\u001b[0m\u001b[1;33m\u001b[0m\u001b[0m\n",
      "\u001b[1;32mc:\\users\\hi\\appdata\\local\\programs\\python\\python37-32\\lib\\site-packages\\pandas\\core\\ops\\array_ops.py\u001b[0m in \u001b[0;36mcomparison_op\u001b[1;34m(left, right, op)\u001b[0m\n\u001b[0;32m    232\u001b[0m         \u001b[1;31m#  The ambiguous case is object-dtype.  See GH#27803\u001b[0m\u001b[1;33m\u001b[0m\u001b[1;33m\u001b[0m\u001b[0m\n\u001b[0;32m    233\u001b[0m         \u001b[1;32mif\u001b[0m \u001b[0mlen\u001b[0m\u001b[1;33m(\u001b[0m\u001b[0mlvalues\u001b[0m\u001b[1;33m)\u001b[0m \u001b[1;33m!=\u001b[0m \u001b[0mlen\u001b[0m\u001b[1;33m(\u001b[0m\u001b[0mrvalues\u001b[0m\u001b[1;33m)\u001b[0m\u001b[1;33m:\u001b[0m\u001b[1;33m\u001b[0m\u001b[0m\n\u001b[1;32m--> 234\u001b[1;33m             \u001b[1;32mraise\u001b[0m \u001b[0mValueError\u001b[0m\u001b[1;33m(\u001b[0m\u001b[1;34m\"Lengths must match to compare\"\u001b[0m\u001b[1;33m)\u001b[0m\u001b[1;33m\u001b[0m\u001b[0m\n\u001b[0m\u001b[0;32m    235\u001b[0m \u001b[1;33m\u001b[0m\u001b[0m\n\u001b[0;32m    236\u001b[0m     \u001b[1;32mif\u001b[0m \u001b[0mshould_extension_dispatch\u001b[0m\u001b[1;33m(\u001b[0m\u001b[0mlvalues\u001b[0m\u001b[1;33m,\u001b[0m \u001b[0mrvalues\u001b[0m\u001b[1;33m)\u001b[0m\u001b[1;33m:\u001b[0m\u001b[1;33m\u001b[0m\u001b[0m\n",
      "\u001b[1;31mValueError\u001b[0m: Lengths must match to compare"
     ]
    }
   ],
   "source": [
    "import emoji\n",
    "df['Letter_Count'] = df['Message'].apply(lambda s : len(s))\n",
    "df['Emoji_Count'] = df['Message'].apply(lambda s : sum([len(n) for n in s if emoji.demojize(n)!=n]))\n",
    "df['Word_Count'] = df['Message'].apply(lambda s : len(s.split(' ')))\n",
    "#df.loc[(df['Emojis']==[])]\n",
    "\n",
    "df.loc[(df['Emojis'] == ['🤣'] )]"
   ]
  },
  {
   "cell_type": "code",
   "execution_count": 176,
   "metadata": {},
   "outputs": [
    {
     "name": "stdout",
     "output_type": "stream",
     "text": [
      "2020-01-05 10:05:00\n",
      "2020-04-30 23:15:00\n"
     ]
    },
    {
     "data": {
      "text/html": [
       "<div>\n",
       "<style scoped>\n",
       "    .dataframe tbody tr th:only-of-type {\n",
       "        vertical-align: middle;\n",
       "    }\n",
       "\n",
       "    .dataframe tbody tr th {\n",
       "        vertical-align: top;\n",
       "    }\n",
       "\n",
       "    .dataframe thead th {\n",
       "        text-align: right;\n",
       "    }\n",
       "</style>\n",
       "<table border=\"1\" class=\"dataframe\">\n",
       "  <thead>\n",
       "    <tr style=\"text-align: right;\">\n",
       "      <th></th>\n",
       "      <th>Date</th>\n",
       "      <th>Time</th>\n",
       "      <th>Author</th>\n",
       "      <th>Message</th>\n",
       "      <th>Letter_Count</th>\n",
       "      <th>Emoji_Count</th>\n",
       "      <th>Emojis</th>\n",
       "      <th>Word_Count</th>\n",
       "    </tr>\n",
       "  </thead>\n",
       "  <tbody>\n",
       "    <tr>\n",
       "      <th>0</th>\n",
       "      <td>27/04/20</td>\n",
       "      <td>2:38 pm</td>\n",
       "      <td>WIPRO.VIMALSREE.</td>\n",
       "      <td>&lt;Media omitted&gt;</td>\n",
       "      <td>15</td>\n",
       "      <td>0</td>\n",
       "      <td>[]</td>\n",
       "      <td>2</td>\n",
       "    </tr>\n",
       "    <tr>\n",
       "      <th>1</th>\n",
       "      <td>27/04/20</td>\n",
       "      <td>2:38 pm</td>\n",
       "      <td>WIPRO.VIMALSREE.</td>\n",
       "      <td>&lt;Media omitted&gt;</td>\n",
       "      <td>15</td>\n",
       "      <td>0</td>\n",
       "      <td>[]</td>\n",
       "      <td>2</td>\n",
       "    </tr>\n",
       "    <tr>\n",
       "      <th>2</th>\n",
       "      <td>27/04/20</td>\n",
       "      <td>2:41 pm</td>\n",
       "      <td>R@$€ T€RR@R</td>\n",
       "      <td>wowwwww</td>\n",
       "      <td>7</td>\n",
       "      <td>0</td>\n",
       "      <td>[]</td>\n",
       "      <td>1</td>\n",
       "    </tr>\n",
       "    <tr>\n",
       "      <th>3</th>\n",
       "      <td>27/04/20</td>\n",
       "      <td>2:43 pm</td>\n",
       "      <td>WIPRO.RAHINI.SCCM.</td>\n",
       "      <td>nice</td>\n",
       "      <td>4</td>\n",
       "      <td>0</td>\n",
       "      <td>[]</td>\n",
       "      <td>1</td>\n",
       "    </tr>\n",
       "    <tr>\n",
       "      <th>4</th>\n",
       "      <td>27/04/20</td>\n",
       "      <td>2:43 pm</td>\n",
       "      <td>WIPRO.MANICKAM.</td>\n",
       "      <td>Soruna udane vanthuru</td>\n",
       "      <td>21</td>\n",
       "      <td>0</td>\n",
       "      <td>[]</td>\n",
       "      <td>3</td>\n",
       "    </tr>\n",
       "  </tbody>\n",
       "</table>\n",
       "</div>"
      ],
      "text/plain": [
       "       Date     Time              Author                Message  Letter_Count  \\\n",
       "0  27/04/20  2:38 pm    WIPRO.VIMALSREE.        <Media omitted>            15   \n",
       "1  27/04/20  2:38 pm    WIPRO.VIMALSREE.        <Media omitted>            15   \n",
       "2  27/04/20  2:41 pm         R@$€ T€RR@R                wowwwww             7   \n",
       "3  27/04/20  2:43 pm  WIPRO.RAHINI.SCCM.                   nice             4   \n",
       "4  27/04/20  2:43 pm     WIPRO.MANICKAM.  Soruna udane vanthuru            21   \n",
       "\n",
       "   Emoji_Count Emojis  Word_Count  \n",
       "0            0     []           2  \n",
       "1            0     []           2  \n",
       "2            0     []           1  \n",
       "3            0     []           1  \n",
       "4            0     []           3  "
      ]
     },
     "execution_count": 176,
     "metadata": {},
     "output_type": "execute_result"
    }
   ],
   "source": [
    "\n",
    "print (pd.to_datetime(df['Date'] + ' ' + df['Time'], errors='ignore').min())\n",
    "print (pd.to_datetime(df['Date'] + ' ' + df['Time'], errors='ignore').max())\n",
    "df.head()"
   ]
  },
  {
   "cell_type": "code",
   "execution_count": 177,
   "metadata": {
    "scrolled": true
   },
   "outputs": [
    {
     "data": {
      "text/plain": [
       "([], [], [], [])"
      ]
     },
     "execution_count": 177,
     "metadata": {},
     "output_type": "execute_result"
    }
   ],
   "source": [
    "import numpy\n",
    "df['Letter_Count'].sum(), df['Word_Count'].sum(),df['Emoji_Count'].sum(),df.Message.count(),df.Author.count()\n",
    "\n",
    "#df['Added_Authors'] = df.loc[(df['Author'].isnull())]\n",
    "#df['Changed_Author'] = df.loc[(df['Author'].isnull()) & (df['Message'].str.contains('changed|deleted',regex=True))].Message.str.split(' ',2).apply(lambda s: s[0]+' '+s[1] if s[0]!='You' and s[1]!='were' else s[0])\n",
    "df['Changed_Author'] = df.loc[(df['Author'].isnull()) & (df['Message'].str.contains('changed|deleted',regex=True))].Message.apply(lambda s : re.sub(r' (changed|deleted).*$','',s) if re.sub(r' (changed|deleted).*$','',s)!= 'You' or re.sub(r' (changed|deleted).*$','',s).count('security code')!=1 else numpy.NaN)\n",
    "df[df.Changed_Author.notnull()]\n",
    "\n",
    "#df['Added_Author'] = df.loc[(df['Author'].isnull()) & (df['Message'].str.contains('added',regex=True))].Message.str.split(' ',2).apply(lambda s: s[0]+' '+s[1] if s[0]!='You' else (s[0]+' '+s[1] if s[1]=='were' else s[0]))\n",
    "df['Added_Author'] = df.loc[(df['Author'].isnull()) &  (df['Message'].str.contains('added',regex=True))].Message.apply(lambda s : re.sub(r' added.*$', '', s))\n",
    "\n",
    "\n",
    "df['Removed_Author'] = df.loc[(df['Author'].isnull()) & (df['Message'].str.contains('removed',regex=True))].Message.apply(lambda s : re.sub(r' removed.*$', '', s))\n",
    "df[df.Removed_Author.notnull()]\n",
    "\n",
    "df['Left_People'] = df.loc[(df['Author'].isnull()) & (df['Message'].str.contains('left$',regex=True))].Message.apply(lambda s : re.sub(r' left$', '', s))\n",
    "df[df.Left_People.notnull()]\n",
    "\n",
    "\n",
    "#print (df.groupby(df['Changed_Author']).count()['Message'])\n",
    "\n",
    "#print (df.groupby(df['Left_People']).count()['Date'])\n",
    "\n",
    "#print (df.groupby(df['Removed_Author']).count()['Message'])\n",
    "times_calculator = {1:'Once',2:'Twice',3:'Thrice'}\n",
    "changed_auth = [(name,times_calculator.setdefault(count,str(count)+' times')) for name,count in df.groupby(df['Changed_Author']).count()['Message'].iteritems()]\n",
    "left_people = [(name,times_calculator.setdefault(count,str(count)+' times')) for name,count in df.groupby(df['Left_People']).count()['Message'].iteritems()]\n",
    "removed_people = [(name,times_calculator.setdefault(count,str(count)+' times')) for name,count in df.groupby(df['Removed_Author']).count()['Message'].iteritems()]\n",
    "added_people = [(name,times_calculator.setdefault(count,str(count)+' times')) for name,count in df.groupby(df['Added_Author']).count()['Message'].iteritems()]\n",
    "\n",
    "changed_auth,left_people,removed_people,added_people\n"
   ]
  },
  {
   "cell_type": "code",
   "execution_count": 178,
   "metadata": {},
   "outputs": [
    {
     "data": {
      "text/html": [
       "<div>\n",
       "<style scoped>\n",
       "    .dataframe tbody tr th:only-of-type {\n",
       "        vertical-align: middle;\n",
       "    }\n",
       "\n",
       "    .dataframe tbody tr th {\n",
       "        vertical-align: top;\n",
       "    }\n",
       "\n",
       "    .dataframe thead th {\n",
       "        text-align: right;\n",
       "    }\n",
       "</style>\n",
       "<table border=\"1\" class=\"dataframe\">\n",
       "  <thead>\n",
       "    <tr style=\"text-align: right;\">\n",
       "      <th></th>\n",
       "      <th>Message</th>\n",
       "      <th>Word_Count</th>\n",
       "      <th>Emoji_Count</th>\n",
       "      <th>Author</th>\n",
       "    </tr>\n",
       "  </thead>\n",
       "  <tbody>\n",
       "    <tr>\n",
       "      <th>0</th>\n",
       "      <td>&lt;Media omitted&gt;</td>\n",
       "      <td>2</td>\n",
       "      <td>0</td>\n",
       "      <td>WIPRO.VIMALSREE.</td>\n",
       "    </tr>\n",
       "    <tr>\n",
       "      <th>1</th>\n",
       "      <td>&lt;Media omitted&gt;</td>\n",
       "      <td>2</td>\n",
       "      <td>0</td>\n",
       "      <td>WIPRO.VIMALSREE.</td>\n",
       "    </tr>\n",
       "    <tr>\n",
       "      <th>2</th>\n",
       "      <td>wowwwww</td>\n",
       "      <td>1</td>\n",
       "      <td>0</td>\n",
       "      <td>R@$€ T€RR@R</td>\n",
       "    </tr>\n",
       "    <tr>\n",
       "      <th>3</th>\n",
       "      <td>nice</td>\n",
       "      <td>1</td>\n",
       "      <td>0</td>\n",
       "      <td>WIPRO.RAHINI.SCCM.</td>\n",
       "    </tr>\n",
       "    <tr>\n",
       "      <th>4</th>\n",
       "      <td>Soruna udane vanthuru</td>\n",
       "      <td>3</td>\n",
       "      <td>0</td>\n",
       "      <td>WIPRO.MANICKAM.</td>\n",
       "    </tr>\n",
       "  </tbody>\n",
       "</table>\n",
       "</div>"
      ],
      "text/plain": [
       "                 Message  Word_Count  Emoji_Count              Author\n",
       "0        <Media omitted>           2            0    WIPRO.VIMALSREE.\n",
       "1        <Media omitted>           2            0    WIPRO.VIMALSREE.\n",
       "2                wowwwww           1            0         R@$€ T€RR@R\n",
       "3                   nice           1            0  WIPRO.RAHINI.SCCM.\n",
       "4  Soruna udane vanthuru           3            0     WIPRO.MANICKAM."
      ]
     },
     "execution_count": 178,
     "metadata": {},
     "output_type": "execute_result"
    }
   ],
   "source": [
    "df[['Message','Word_Count','Emoji_Count','Author']].head()\n",
    "#df.loc[(df['Message'].str.contains('Man who sold coffee'))]"
   ]
  },
  {
   "cell_type": "code",
   "execution_count": 179,
   "metadata": {},
   "outputs": [
    {
     "name": "stdout",
     "output_type": "stream",
     "text": [
      "Total Message Sent :  447\n",
      "Users Contributed Count :  6\n",
      "Users Contributed :  ['WIPRO.VIMALSREE.' 'R@$€ T€RR@R' 'WIPRO.RAHINI.SCCM.' 'WIPRO.MANICKAM.'\n",
      " 'WIPRO.SANGETHA.' 'WIPRO.RAJESHKUMAR.']\n",
      "24\n",
      "Longest Message is sent by : \"  WIPRO.SANGETHA. \" and the message has :  24  words\n",
      "WIPRO.RAHINI.SCCM.    129\n",
      "WIPRO.MANICKAM.        95\n",
      "R@$€ T€RR@R            95\n",
      "WIPRO.RAJESHKUMAR.     83\n",
      "WIPRO.VIMALSREE.       36\n",
      "WIPRO.SANGETHA.         9\n",
      "Name: Author, dtype: int64\n"
     ]
    },
    {
     "data": {
      "text/plain": [
       "<matplotlib.legend.Legend at 0x11bb73d0>"
      ]
     },
     "execution_count": 179,
     "metadata": {},
     "output_type": "execute_result"
    },
    {
     "data": {
      "image/png": "[encoded data removed]",
      "text/plain": [
       "<Figure size 640x480 with 1 Axes>"
      ]
     },
     "metadata": {},
     "output_type": "display_data"
    }
   ],
   "source": [
    "import matplotlib as mpl\n",
    "\n",
    "mpl.style.use(\"default\")\n",
    "print (\"Total Message Sent : \", df.count().Author)\n",
    "print (\"Users Contributed Count : \", df['Author'].nunique())\n",
    "print (\"Users Contributed : \", df['Author'].dropna().unique())\n",
    "author_value_counts = df['Author'].value_counts() # Number of messages per author\n",
    "ax = author_value_counts.plot.bar(color=['#FF0000'],title=\"Message Shared in the Group\",legend=True,\n",
    "                                   edgecolor=\"#00FF00\", linewidth=0.0,yticks=[x for x in range(0,3000,500)])\n",
    "print (df['Word_Count'].max())\n",
    "longest_message,longest_msg =df['Word_Count'].max(),df.iloc[df.Word_Count.idxmax()][['Message','Author']]\n",
    "#print (\"\"\"Longest Message is sent by : \" \"\"\", longest_msg.Author, \"\"\"\" and the message has : \"\"\",longest_message,\"\"\" words\"\"\",longest_msg.Message)\n",
    "print (\"\"\"Longest Message is sent by : \" \"\"\", longest_msg.Author, \"\"\"\" and the message has : \"\"\",longest_message,\"\"\" words\"\"\")\n",
    "#df.iloc[df.Emoji_Count.idxmax()].Message\n",
    "#df['Author'].value_counts()\n",
    "print (author_value_counts)\n",
    "for p in ax.patches:\n",
    "    ax.annotate(str(p.get_height()), (p.get_x() * 1, p.get_height() * 1.01))\n",
    "ax.legend(['Messages'])\n"
   ]
  },
  {
   "cell_type": "code",
   "execution_count": 180,
   "metadata": {
    "scrolled": true
   },
   "outputs": [
    {
     "data": {
      "text/html": [
       "<div>\n",
       "<style scoped>\n",
       "    .dataframe tbody tr th:only-of-type {\n",
       "        vertical-align: middle;\n",
       "    }\n",
       "\n",
       "    .dataframe tbody tr th {\n",
       "        vertical-align: top;\n",
       "    }\n",
       "\n",
       "    .dataframe thead th {\n",
       "        text-align: right;\n",
       "    }\n",
       "</style>\n",
       "<table border=\"1\" class=\"dataframe\">\n",
       "  <thead>\n",
       "    <tr style=\"text-align: right;\">\n",
       "      <th></th>\n",
       "      <th>Date</th>\n",
       "      <th>Time</th>\n",
       "      <th>Author</th>\n",
       "      <th>Message</th>\n",
       "      <th>Letter_Count</th>\n",
       "      <th>Emoji_Count</th>\n",
       "      <th>Emojis</th>\n",
       "      <th>Word_Count</th>\n",
       "      <th>Changed_Author</th>\n",
       "      <th>Added_Author</th>\n",
       "      <th>Removed_Author</th>\n",
       "      <th>Left_People</th>\n",
       "    </tr>\n",
       "  </thead>\n",
       "  <tbody>\n",
       "    <tr>\n",
       "      <th>7</th>\n",
       "      <td>27/04/20</td>\n",
       "      <td>2:44 pm</td>\n",
       "      <td>WIPRO.RAHINI.SCCM.</td>\n",
       "      <td>🤣</td>\n",
       "      <td>1</td>\n",
       "      <td>1</td>\n",
       "      <td>[🤣]</td>\n",
       "      <td>1</td>\n",
       "      <td>NaN</td>\n",
       "      <td>NaN</td>\n",
       "      <td>NaN</td>\n",
       "      <td>NaN</td>\n",
       "    </tr>\n",
       "    <tr>\n",
       "      <th>9</th>\n",
       "      <td>27/04/20</td>\n",
       "      <td>2:45 pm</td>\n",
       "      <td>R@$€ T€RR@R</td>\n",
       "      <td>😋😋😋</td>\n",
       "      <td>3</td>\n",
       "      <td>3</td>\n",
       "      <td>[😋, 😋, 😋]</td>\n",
       "      <td>1</td>\n",
       "      <td>NaN</td>\n",
       "      <td>NaN</td>\n",
       "      <td>NaN</td>\n",
       "      <td>NaN</td>\n",
       "    </tr>\n",
       "    <tr>\n",
       "      <th>11</th>\n",
       "      <td>27/04/20</td>\n",
       "      <td>2:45 pm</td>\n",
       "      <td>WIPRO.VIMALSREE.</td>\n",
       "      <td>😂😂😂</td>\n",
       "      <td>3</td>\n",
       "      <td>3</td>\n",
       "      <td>[😂, 😂, 😂]</td>\n",
       "      <td>1</td>\n",
       "      <td>NaN</td>\n",
       "      <td>NaN</td>\n",
       "      <td>NaN</td>\n",
       "      <td>NaN</td>\n",
       "    </tr>\n",
       "    <tr>\n",
       "      <th>16</th>\n",
       "      <td>27/04/20</td>\n",
       "      <td>2:46 pm</td>\n",
       "      <td>WIPRO.VIMALSREE.</td>\n",
       "      <td>👊🏻🤦🏼‍♀️</td>\n",
       "      <td>7</td>\n",
       "      <td>6</td>\n",
       "      <td>[👊, 🤦, ️]</td>\n",
       "      <td>1</td>\n",
       "      <td>NaN</td>\n",
       "      <td>NaN</td>\n",
       "      <td>NaN</td>\n",
       "      <td>NaN</td>\n",
       "    </tr>\n",
       "    <tr>\n",
       "      <th>18</th>\n",
       "      <td>27/04/20</td>\n",
       "      <td>2:49 pm</td>\n",
       "      <td>WIPRO.MANICKAM.</td>\n",
       "      <td>😁😁😁</td>\n",
       "      <td>3</td>\n",
       "      <td>3</td>\n",
       "      <td>[😁, 😁, 😁]</td>\n",
       "      <td>1</td>\n",
       "      <td>NaN</td>\n",
       "      <td>NaN</td>\n",
       "      <td>NaN</td>\n",
       "      <td>NaN</td>\n",
       "    </tr>\n",
       "    <tr>\n",
       "      <th>...</th>\n",
       "      <td>...</td>\n",
       "      <td>...</td>\n",
       "      <td>...</td>\n",
       "      <td>...</td>\n",
       "      <td>...</td>\n",
       "      <td>...</td>\n",
       "      <td>...</td>\n",
       "      <td>...</td>\n",
       "      <td>...</td>\n",
       "      <td>...</td>\n",
       "      <td>...</td>\n",
       "      <td>...</td>\n",
       "    </tr>\n",
       "    <tr>\n",
       "      <th>446</th>\n",
       "      <td>01/05/20</td>\n",
       "      <td>11:05 am</td>\n",
       "      <td>WIPRO.RAJESHKUMAR.</td>\n",
       "      <td>🤩🤩🤩🤩Nandrigal</td>\n",
       "      <td>13</td>\n",
       "      <td>4</td>\n",
       "      <td>[🤩, 🤩, 🤩, 🤩]</td>\n",
       "      <td>1</td>\n",
       "      <td>NaN</td>\n",
       "      <td>NaN</td>\n",
       "      <td>NaN</td>\n",
       "      <td>NaN</td>\n",
       "    </tr>\n",
       "    <tr>\n",
       "      <th>447</th>\n",
       "      <td>01/05/20</td>\n",
       "      <td>11:20 am</td>\n",
       "      <td>WIPRO.RAHINI.SCCM.</td>\n",
       "      <td>Vimal😩</td>\n",
       "      <td>6</td>\n",
       "      <td>1</td>\n",
       "      <td>[😩]</td>\n",
       "      <td>1</td>\n",
       "      <td>NaN</td>\n",
       "      <td>NaN</td>\n",
       "      <td>NaN</td>\n",
       "      <td>NaN</td>\n",
       "    </tr>\n",
       "    <tr>\n",
       "      <th>448</th>\n",
       "      <td>01/05/20</td>\n",
       "      <td>11:43 am</td>\n",
       "      <td>WIPRO.VIMALSREE.</td>\n",
       "      <td>OK beauty... Don't cry😂😂😂</td>\n",
       "      <td>25</td>\n",
       "      <td>3</td>\n",
       "      <td>[😂, 😂, 😂]</td>\n",
       "      <td>4</td>\n",
       "      <td>NaN</td>\n",
       "      <td>NaN</td>\n",
       "      <td>NaN</td>\n",
       "      <td>NaN</td>\n",
       "    </tr>\n",
       "    <tr>\n",
       "      <th>449</th>\n",
       "      <td>01/05/20</td>\n",
       "      <td>11:53 am</td>\n",
       "      <td>WIPRO.RAHINI.SCCM.</td>\n",
       "      <td>Haahha onu beauty ilaa patti🤣</td>\n",
       "      <td>29</td>\n",
       "      <td>1</td>\n",
       "      <td>[🤣]</td>\n",
       "      <td>5</td>\n",
       "      <td>NaN</td>\n",
       "      <td>NaN</td>\n",
       "      <td>NaN</td>\n",
       "      <td>NaN</td>\n",
       "    </tr>\n",
       "    <tr>\n",
       "      <th>451</th>\n",
       "      <td>01/05/20</td>\n",
       "      <td>12:52 pm</td>\n",
       "      <td>WIPRO.RAJESHKUMAR.</td>\n",
       "      <td>Management wish 🤩</td>\n",
       "      <td>17</td>\n",
       "      <td>1</td>\n",
       "      <td>[🤩]</td>\n",
       "      <td>3</td>\n",
       "      <td>NaN</td>\n",
       "      <td>NaN</td>\n",
       "      <td>NaN</td>\n",
       "      <td>NaN</td>\n",
       "    </tr>\n",
       "  </tbody>\n",
       "</table>\n",
       "<p>80 rows × 12 columns</p>\n",
       "</div>"
      ],
      "text/plain": [
       "         Date      Time              Author                        Message  \\\n",
       "7    27/04/20   2:44 pm  WIPRO.RAHINI.SCCM.                              🤣   \n",
       "9    27/04/20   2:45 pm         R@$€ T€RR@R                            😋😋😋   \n",
       "11   27/04/20   2:45 pm    WIPRO.VIMALSREE.                            😂😂😂   \n",
       "16   27/04/20   2:46 pm    WIPRO.VIMALSREE.                        👊🏻🤦🏼‍♀️   \n",
       "18   27/04/20   2:49 pm     WIPRO.MANICKAM.                            😁😁😁   \n",
       "..        ...       ...                 ...                            ...   \n",
       "446  01/05/20  11:05 am  WIPRO.RAJESHKUMAR.                  🤩🤩🤩🤩Nandrigal   \n",
       "447  01/05/20  11:20 am  WIPRO.RAHINI.SCCM.                         Vimal😩   \n",
       "448  01/05/20  11:43 am    WIPRO.VIMALSREE.      OK beauty... Don't cry😂😂😂   \n",
       "449  01/05/20  11:53 am  WIPRO.RAHINI.SCCM.  Haahha onu beauty ilaa patti🤣   \n",
       "451  01/05/20  12:52 pm  WIPRO.RAJESHKUMAR.              Management wish 🤩   \n",
       "\n",
       "     Letter_Count  Emoji_Count        Emojis  Word_Count Changed_Author  \\\n",
       "7               1            1           [🤣]           1            NaN   \n",
       "9               3            3     [😋, 😋, 😋]           1            NaN   \n",
       "11              3            3     [😂, 😂, 😂]           1            NaN   \n",
       "16              7            6     [👊, 🤦, ️]           1            NaN   \n",
       "18              3            3     [😁, 😁, 😁]           1            NaN   \n",
       "..            ...          ...           ...         ...            ...   \n",
       "446            13            4  [🤩, 🤩, 🤩, 🤩]           1            NaN   \n",
       "447             6            1           [😩]           1            NaN   \n",
       "448            25            3     [😂, 😂, 😂]           4            NaN   \n",
       "449            29            1           [🤣]           5            NaN   \n",
       "451            17            1           [🤩]           3            NaN   \n",
       "\n",
       "    Added_Author Removed_Author Left_People  \n",
       "7            NaN            NaN         NaN  \n",
       "9            NaN            NaN         NaN  \n",
       "11           NaN            NaN         NaN  \n",
       "16           NaN            NaN         NaN  \n",
       "18           NaN            NaN         NaN  \n",
       "..           ...            ...         ...  \n",
       "446          NaN            NaN         NaN  \n",
       "447          NaN            NaN         NaN  \n",
       "448          NaN            NaN         NaN  \n",
       "449          NaN            NaN         NaN  \n",
       "451          NaN            NaN         NaN  \n",
       "\n",
       "[80 rows x 12 columns]"
      ]
     },
     "execution_count": 180,
     "metadata": {},
     "output_type": "execute_result"
    }
   ],
   "source": [
    "import numpy\n",
    "from collections import Counter\n",
    "def emoji_per_person_usage_cal(emoji_list,emoji_values):\n",
    "    emoji_stacked_data = {'Name':[]}\n",
    "    for emo in emoji_list:\n",
    "        for author,data in emoji_values:\n",
    "            if emoji_stacked_data['Name'].count(author)==0:\n",
    "                emoji_stacked_data['Name'].append(author)\n",
    "\n",
    "            if not emoji_stacked_data.get(emo[0]):\n",
    "                emoji_stacked_data[emo[0]]=[]\n",
    "                emoji_stacked_data[emo[0]].append([ n for ind,val in data.items() for n in val if val!=[]].count(emo[0]))\n",
    "            else:\n",
    "                emoji_stacked_data[emo[0]].append([ n for ind,val in data.items() for n in val if val!=[]].count(emo[0]))\n",
    "    return emoji_stacked_data\n",
    "\n",
    "\n",
    "emoji_data = df[df.Emojis.apply(lambda s: s if s!=[] else None).notnull()]\n",
    "emoji_list = Counter([n for ind,val in emoji_data.Emojis.items() for n in val]).most_common(10)\n",
    "\n",
    "\n",
    "message_emoji=df.groupby(['Author']).Emojis\n",
    "group_name_emoji=df.groupby(['Changed_Author']).Emojis\n",
    "\n",
    "msg_emoji_stacked_data = emoji_per_person_usage_cal(emoji_list,message_emoji)\n",
    "\n",
    "group_emoji_stacked_data = emoji_per_person_usage_cal(emoji_list,group_name_emoji)\n",
    "\n",
    "#print (msg_emoji_stacked_data)\n",
    "#print (group_emoji_stacked_data)\n",
    "\n",
    "for key,value in group_emoji_stacked_data.items():\n",
    "    if key!='Name':\n",
    "        \n",
    "        if sum(value)>0:\n",
    "            #print (value)\n",
    "            greater_value=[ind for ind,val in enumerate(value) if val>0]\n",
    "            for val in greater_value:\n",
    "                #print (group_emoji_stacked_data['Name'][value.index(val)],key)\n",
    "                try:\n",
    "                    msg_emoji_stacked_data['Name'].index(group_emoji_stacked_data['Name'][value.index(val)])\n",
    "                except:\n",
    "                    pass\n",
    "                else:\n",
    "                    name_col = msg_emoji_stacked_data['Name'].index(group_emoji_stacked_data['Name'][value.index(val)])\n",
    "                    #print (name_col)\n",
    "                    #print (msg_emoji_stacked_data[key][name_col])\n",
    "                    msg_emoji_stacked_data[key][name_col]+=val\n",
    "                    #print (msg_emoji_stacked_data[key][name_col])\n",
    "emoji_stacked_data=[[m for m in msg_emoji_stacked_data.keys()]]\n",
    "\n",
    " \n",
    "\n",
    "\n",
    "    \n",
    "\n",
    "emoji_stacked_data.append((numpy.asarray([n for n in msg_emoji_stacked_data.values()],dtype=object).transpose()).tolist())\n",
    "emoji_stacked_data\n",
    "df[df.Emojis.apply(lambda s: s if s!=[] else None).notnull()]\n"
   ]
  },
  {
   "cell_type": "code",
   "execution_count": 181,
   "metadata": {},
   "outputs": [
    {
     "name": "stdout",
     "output_type": "stream",
     "text": [
      "Total Emoji Sent :  211\n"
     ]
    },
    {
     "data": {
      "text/plain": [
       "{'Name': []}"
      ]
     },
     "execution_count": 181,
     "metadata": {},
     "output_type": "execute_result"
    },
    {
     "data": {
      "image/png": "[encoded data removed]",
      "text/plain": [
       "<Figure size 640x480 with 1 Axes>"
      ]
     },
     "metadata": {},
     "output_type": "display_data"
    }
   ],
   "source": [
    "print (\"Total Emoji Sent : \", df[df['Author'].notnull()].Emoji_Count.sum())\n",
    "msg_emoji = df.groupby(['Author']).sum()['Emoji_Count']\n",
    "group_name_emoji = df.groupby(['Changed_Author']).sum()['Emoji_Count']\n",
    "\n",
    "sent_emoji = msg_emoji.add(group_name_emoji,fill_value=0).apply(lambda s :int(s))\n",
    "#sent_emoji.plot.bar(sort_columns =True)\n",
    "words_by_author = df.groupby(['Author']).sum()['Word_Count']\n",
    "new_df = pd.concat([words_by_author,sent_emoji],axis=1,join=\"outer\")\n",
    "\n",
    "ex = new_df.plot.bar(title=\"Words vs Emojis\")\n",
    "for p in ex.patches:\n",
    "    ex.annotate(str(p.get_height()), (p.get_x() * 1, p.get_height() * 1.01))\n",
    "ex.legend(['Words','Emojis'])\n",
    "\n",
    "#print (\"Users Contributed Count : \", df['Author'].nunique())\n",
    "#print (\"Users Contributed : \", df['Author'].dropna().unique())\n",
    "#author_value_counts = df['Author'].value_counts() # Number of messages per author\n",
    "#ax = author_value_counts.plot.bar(color=['#FF0000'],title=\"Message\",legend=True,\n",
    "#                                   edgecolor=\"#00FF00\", linewidth=0.0,yticks=[x for x in range(0,3000,500)])\n",
    "#print (df['Word_Count'].max())\n",
    "#longest_message,longest_msg =df['Word_Count'].max(),df.iloc[df.Word_Count.idxmax()][['Message','Author']]\n",
    "\n",
    "#df.iloc[df.Emoji_Count.idxmax()].Message\n",
    "#df['Author'].value_counts()\n",
    "#for p in ax.patches:\n",
    "#    ax.annotate(str(p.get_height()), (p.get_x() * 1, p.get_height() * 1.01))\"\"\"\n",
    "#words_by_author\n",
    "\n",
    "sent_emoji.sort_values(ascending=False)\n",
    "group_emoji_stacked_data"
   ]
  },
  {
   "cell_type": "code",
   "execution_count": 182,
   "metadata": {},
   "outputs": [
    {
     "name": "stdout",
     "output_type": "stream",
     "text": [
      "[('texts sent', 'WIPRO.RAHINI.SCCM.', 129), ('emoji sent', 'WIPRO.RAJESHKUMAR.', 63), ('media shared', 'WIPRO.RAHINI.SCCM.', 5), ('Used Word', 'to', 21), ('Used Emoji', '😂', 43), ('Texted Day', '30/04/20', 123)]\n",
      "to      21\n",
      "ah      17\n",
      "ludo    15\n",
      "the     13\n",
      "la      13\n",
      "and     12\n",
      "tha     11\n",
      "ok      10\n",
      "ne      10\n",
      "ku       9\n",
      "dtype: int64\n"
     ]
    }
   ],
   "source": [
    "#Row 4\n",
    "word_list = pd.Series(' '.join(df.loc[~(df['Message'].str.contains('<Media.* | omitted>.$',regex=True))\n",
    "                                     & (df['Message'].apply(lambda s: [w for w in s.split(' ') if emoji.emoji_count(w)==0]))].Message).lower().split()).value_counts()[:10]\n",
    "\n",
    "most=[('texts sent',author_value_counts.idxmax(),author_value_counts.max()),\n",
    "           ('emoji sent',sent_emoji.idxmax(),sent_emoji.max()),\n",
    "      ('media shared',author_media_messages_value_counts.idxmax(),author_media_messages_value_counts.max()),\n",
    "      ('Used Word',word_list.idxmax(),word_list.max()),\n",
    "      ('Used Emoji',emoji_list[0][0],emoji_list[0][1]),\n",
    "      ('Texted Day',date_group.Message.count().idxmax(),date_group.Message.count().max())\n",
    "     ]\n",
    "print (most)\n",
    "print (word_list)\n",
    "\n",
    "\n",
    "longest_message,longest_msg =int(df['Word_Count'].max()),df.iloc[df.Word_Count.idxmax()][['Message','Author','Date']]\n",
    "\n"
   ]
  },
  {
   "cell_type": "code",
   "execution_count": 183,
   "metadata": {},
   "outputs": [
    {
     "name": "stdout",
     "output_type": "stream",
     "text": [
      "Total Words :  1671\n",
      "19\n",
      "<class 'pandas.core.series.Series'>\n",
      "<class 'pandas.core.series.Series'>\n",
      "<class 'pandas.core.series.Series'>\n"
     ]
    },
    {
     "data": {
      "text/plain": [
       "<matplotlib.legend.Legend at 0x61ab590>"
      ]
     },
     "execution_count": 183,
     "metadata": {},
     "output_type": "execute_result"
    },
    {
     "data": {
      "image/png": "[encoded data removed]",
      "text/plain": [
       "<Figure size 2000x1000 with 1 Axes>"
      ]
     },
     "metadata": {},
     "output_type": "display_data"
    }
   ],
   "source": [
    "msg_word_by_author=df.groupby(['Author']).sum()['Word_Count']\n",
    "changed_word_by_author = df.groupby(['Changed_Author']).sum()['Word_Count']\n",
    "print (\"Total Words : \",df[(df['Author'].notnull()) | (df['Changed_Author'].notnull())].Word_Count.sum())\n",
    "words_by_author = msg_word_by_author.add(changed_word_by_author,fill_value=0).apply(lambda s: int(s))\n",
    "\n",
    "#media_by_author=df.groupby(['Author']).sum()['Media_count']\n",
    "author_media_messages_value_counts = author_media_messages_value_counts.apply(lambda s: int(s))\n",
    "print (author_media_messages_value_counts.sum())\n",
    "print (type(words_by_author))\n",
    "print (type(sent_emoji))\n",
    "print (type(author_media_messages_value_counts))\n",
    "#new_df = pd.concat([words_by_author,sent_emoji,author_media_messages_value_counts,author_value_counts],axis=1,join=\"outer\").astype(dtype='Int64')\n",
    "new_df = pd.concat([sent_emoji,author_media_messages_value_counts,author_value_counts],axis=1,join=\"outer\").astype(dtype='Int64')\n",
    "\n",
    "ex = new_df.plot.bar(figsize=[20,10])\n",
    "for p in ex.patches:\n",
    "    ex.annotate(str(p.get_height()), (p.get_x() * 1, p.get_height() * 1.01))\n",
    "ex.legend(['Emojis','Media','Messages'])\n",
    "\n",
    "#pd.concat([df.Word_Count,df.Emoji_Count],axis=1)"
   ]
  },
  {
   "cell_type": "code",
   "execution_count": 184,
   "metadata": {},
   "outputs": [
    {
     "data": {
      "text/plain": [
       "[['WIPRO.RAHINI.SCCM.', 129, 45, 5, 379],\n",
       " ['WIPRO.MANICKAM.', 95, 12, 4, 300],\n",
       " ['R@$€ T€RR@R', 95, 36, 1, 467],\n",
       " ['WIPRO.RAJESHKUMAR.', 83, 63, 4, 331],\n",
       " ['WIPRO.VIMALSREE.', 36, 50, 4, 153],\n",
       " ['WIPRO.SANGETHA.', 9, 5, 1, 41]]"
      ]
     },
     "execution_count": 184,
     "metadata": {},
     "output_type": "execute_result"
    }
   ],
   "source": [
    "\n",
    "final_df = pd.concat([author_value_counts,sent_emoji,author_media_messages_value_counts,words_by_author],axis=1,join=\"outer\").astype(dtype='Int64').fillna(0)\n",
    "final_output = [[m,n[0],n[-3],n[-2],n[-1]] for m,n in [[n,list(j)] for n,j in final_df.iterrows()]]\n",
    "\n",
    "final_output\n"
   ]
  },
  {
   "cell_type": "code",
   "execution_count": 185,
   "metadata": {},
   "outputs": [],
   "source": [
    "days = [str(n).zfill(2) for n in range(1,29)]\n",
    "cases = [3,6,7,29,30,31,34,40,47,62,62,74,82,100,114,129,143,169,194,249,332,396,499,536,657,727,887,987]"
   ]
  },
  {
   "cell_type": "code",
   "execution_count": 186,
   "metadata": {},
   "outputs": [],
   "source": [
    "func = lambda lst : [int(((n-lst[a-1])/lst[a-1])*100) for a,n in enumerate(lst) if a!=0 ]"
   ]
  },
  {
   "cell_type": "code",
   "execution_count": 187,
   "metadata": {},
   "outputs": [
    {
     "name": "stdout",
     "output_type": "stream",
     "text": [
      "*Mar01* : *0%* of increase\n",
      "*Mar02* : *100%* of increase\n",
      "*Mar03* : *16%* of increase\n",
      "*Mar04* : *314%* of increase\n",
      "*Mar05* : *3%* of increase\n",
      "*Mar06* : *3%* of increase\n",
      "*Mar07* : *9%* of increase\n",
      "*Mar08* : *17%* of increase\n",
      "*Mar09* : *17%* of increase\n",
      "*Mar10* : *31%* of increase\n",
      "*Mar11* : *0%* of increase\n",
      "*Mar12* : *19%* of increase\n",
      "*Mar13* : *10%* of increase\n",
      "*Mar14* : *21%* of increase\n",
      "*Mar15* : *14%* of increase\n",
      "*Mar16* : *13%* of increase\n",
      "*Mar17* : *10%* of increase\n",
      "*Mar18* : *18%* of increase\n",
      "*Mar19* : *14%* of increase\n",
      "*Mar20* : *28%* of increase\n",
      "*Mar21* : *33%* of increase\n",
      "*Mar22* : *19%* of increase\n",
      "*Mar23* : *26%* of increase\n",
      "*Mar24* : *7%* of increase\n",
      "*Mar25* : *22%* of increase\n",
      "*Mar26* : *10%* of increase\n",
      "*Mar27* : *22%* of increase\n",
      "*Mar28* : *11%* of increase\n"
     ]
    },
    {
     "data": {
      "text/plain": [
       "[<matplotlib.lines.Line2D at 0x61dc170>]"
      ]
     },
     "execution_count": 187,
     "metadata": {},
     "output_type": "execute_result"
    },
    {
     "data": {
      "image/png": "[encoded data removed]",
      "text/plain": [
       "<Figure size 640x480 with 1 Axes>"
      ]
     },
     "metadata": {},
     "output_type": "display_data"
    }
   ],
   "source": [
    "lst =[0]+func(cases)\n",
    "for day,per in list(zip(days,lst)):\n",
    "    print ('*Mar'+day +'* : *'+str(per) +\"%* of increase\")\n",
    "import matplotlib.pyplot as plt\n",
    "plt.xlabel(\"March\")\n",
    "plt.ylabel(\"% of Increase\")\n",
    "plt.plot(days,lst)\n"
   ]
  },
  {
   "cell_type": "code",
   "execution_count": 188,
   "metadata": {
    "scrolled": true
   },
   "outputs": [
    {
     "data": {
      "text/plain": [
       "[('R@$€ T€RR@R', 36),\n",
       " ('WIPRO.MANICKAM.', 12),\n",
       " ('WIPRO.RAHINI.SCCM.', 45),\n",
       " ('WIPRO.RAJESHKUMAR.', 63),\n",
       " ('WIPRO.SANGETHA.', 5),\n",
       " ('WIPRO.VIMALSREE.', 50)]"
      ]
     },
     "execution_count": 188,
     "metadata": {},
     "output_type": "execute_result"
    }
   ],
   "source": [
    "[(m,n) for m,n in sent_emoji.items()]"
   ]
  },
  {
   "cell_type": "code",
   "execution_count": 191,
   "metadata": {},
   "outputs": [
    {
     "name": "stdout",
     "output_type": "stream",
     "text": [
      ":face_with_tears_of_joy:\n",
      ":rolling_on_the_floor_laughing:\n",
      ":face_with_rolling_eyes:\n",
      ":beaming_face_with_smiling_eyes:\n",
      "\n",
      ":person_facepalming:\n",
      ":face_savoring_food:\n",
      ":folded_hands:\n",
      ":thumbs_up:\n",
      ":thinking_face:\n"
     ]
    }
   ],
   "source": [
    "s='😁😁😁😁😁😁😁😁 dai . cha😁i'\n",
    "for n,j in emoji_list:\n",
    "    print (emoji.demojize(n))"
   ]
  },
  {
   "cell_type": "code",
   "execution_count": 62,
   "metadata": {},
   "outputs": [],
   "source": [
    "f=lambda s : sum([len(n) for n in s if emoji.demojize(n)!=n])\n",
    "g=lambda s : len(s.split(' '))"
   ]
  },
  {
   "cell_type": "code",
   "execution_count": 63,
   "metadata": {},
   "outputs": [
    {
     "data": {
      "text/plain": [
       "4"
      ]
     },
     "execution_count": 63,
     "metadata": {},
     "output_type": "execute_result"
    }
   ],
   "source": [
    "g(s)"
   ]
  },
  {
   "cell_type": "code",
   "execution_count": 64,
   "metadata": {},
   "outputs": [],
   "source": [
    "x=\"WhatsApp Chat with 👊 வாழு..!! வாழ விடு.!! 💦.txt\""
   ]
  },
  {
   "cell_type": "code",
   "execution_count": 65,
   "metadata": {},
   "outputs": [
    {
     "data": {
      "text/plain": [
       "' 👊 வாழு..!! வாழ விடு.!! 💦'"
      ]
     },
     "execution_count": 65,
     "metadata": {},
     "output_type": "execute_result"
    }
   ],
   "source": [
    "x.split(\"WhatsApp Chat with\")[1].split('.txt')[0]"
   ]
  },
  {
   "cell_type": "code",
   "execution_count": null,
   "metadata": {},
   "outputs": [],
   "source": []
  },
  {
   "cell_type": "code",
   "execution_count": null,
   "metadata": {},
   "outputs": [],
   "source": []
  },
  {
   "cell_type": "code",
   "execution_count": null,
   "metadata": {},
   "outputs": [],
   "source": []
  }
 ],
 "metadata": {
  "kernelspec": {
   "display_name": "Python 3",
   "language": "python",
   "name": "python3"
  },
  "language_info": {
   "codemirror_mode": {
    "name": "ipython",
    "version": 3
   },
   "file_extension": ".py",
   "mimetype": "text/x-python",
   "name": "python",
   "nbconvert_exporter": "python",
   "pygments_lexer": "ipython3",
   "version": "3.7.0"
  }
 },
 "nbformat": 4,
 "nbformat_minor": 2
}
